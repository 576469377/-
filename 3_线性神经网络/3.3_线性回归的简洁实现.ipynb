{
 "cells": [
  {
   "cell_type": "code",
   "execution_count": 2,
   "id": "a9d569a4-61de-4b18-9112-da1b42b944b2",
   "metadata": {},
   "outputs": [],
   "source": [
    "import numpy as np\n",
    "import torch\n",
    "from torch.utils import data\n",
    "from d2l import torch as d2l"
   ]
  },
  {
   "cell_type": "markdown",
   "id": "52d66ec4-de2b-4326-a425-8721ae56eb7a",
   "metadata": {},
   "source": [
    "### generate the dataset"
   ]
  },
  {
   "cell_type": "code",
   "execution_count": 4,
   "id": "554895c6-00b4-478c-9a76-0d41c815dd98",
   "metadata": {},
   "outputs": [],
   "source": [
    "true_w = torch.tensor([2, -3.4])\n",
    "true_b = 4.2\n",
    "features, labels = d2l.synthetic_data(true_w, true_b, 1000)"
   ]
  },
  {
   "cell_type": "markdown",
   "id": "c8c5cf56-1176-491a-a84d-ef1f10e234ee",
   "metadata": {},
   "source": [
    "### read the dataset"
   ]
  },
  {
   "cell_type": "code",
   "execution_count": 5,
   "id": "2ba3b919-bc24-44cb-88a7-2e66db497b06",
   "metadata": {},
   "outputs": [],
   "source": [
    "#@save\n",
    "def load_array(data_arrays, batch_size, is_train=True):\n",
    "    \"\"\"construct a pytorch data iterator\"\"\"\n",
    "    dataset = data.TensorDataset(*data_arrays)\n",
    "    return data.DataLoader(dataset, batch_size, shuffle=is_train)"
   ]
  },
  {
   "cell_type": "code",
   "execution_count": 6,
   "id": "8a54c75f-72df-455c-9977-eda2da9e4d16",
   "metadata": {},
   "outputs": [],
   "source": [
    "batch_size = 10\n",
    "data_iter = load_array((features, labels), batch_size)"
   ]
  },
  {
   "cell_type": "code",
   "execution_count": 7,
   "id": "87d95f01-1692-4e2d-a3c9-911490ae9a7c",
   "metadata": {},
   "outputs": [
    {
     "data": {
      "text/plain": [
       "[tensor([[ 1.0090,  1.5975],\n",
       "         [ 0.4363,  0.1002],\n",
       "         [ 1.3781, -1.2198],\n",
       "         [-1.0011, -0.2308],\n",
       "         [ 1.3688, -0.2137],\n",
       "         [-0.5825,  0.2124],\n",
       "         [-0.3518,  1.0161],\n",
       "         [-0.8861, -0.7883],\n",
       "         [ 1.7543, -1.4044],\n",
       "         [-0.6283,  0.2089]]),\n",
       " tensor([[ 0.7872],\n",
       "         [ 4.7414],\n",
       "         [11.0917],\n",
       "         [ 2.9887],\n",
       "         [ 7.6587],\n",
       "         [ 2.2990],\n",
       "         [ 0.0472],\n",
       "         [ 5.1218],\n",
       "         [12.4761],\n",
       "         [ 2.2224]])]"
      ]
     },
     "execution_count": 7,
     "metadata": {},
     "output_type": "execute_result"
    }
   ],
   "source": [
    "next(iter(data_iter))"
   ]
  },
  {
   "cell_type": "markdown",
   "id": "a7000497-5091-43e9-9459-693d6f4389fb",
   "metadata": {},
   "source": [
    "### define the model"
   ]
  },
  {
   "cell_type": "code",
   "execution_count": 8,
   "id": "6f9d0205-c369-4fd7-8434-15aa5ca66962",
   "metadata": {},
   "outputs": [],
   "source": [
    "from torch import nn"
   ]
  },
  {
   "cell_type": "code",
   "execution_count": 9,
   "id": "a2851c51-d1d4-4ed6-bda8-6ed121c88c86",
   "metadata": {},
   "outputs": [],
   "source": [
    "net = nn.Sequential(nn.Linear(2, 1))"
   ]
  },
  {
   "cell_type": "markdown",
   "id": "502d0b54-34a6-4315-8991-ef15f7d78601",
   "metadata": {},
   "source": [
    "### initialize model parameters"
   ]
  },
  {
   "cell_type": "code",
   "execution_count": 10,
   "id": "811253b1-109d-4685-95eb-9c15eb505910",
   "metadata": {},
   "outputs": [
    {
     "data": {
      "text/plain": [
       "tensor([0.])"
      ]
     },
     "execution_count": 10,
     "metadata": {},
     "output_type": "execute_result"
    }
   ],
   "source": [
    "net[0].weight.data.normal_(0, 0.01)\n",
    "net[0].bias.data.fill_(0)"
   ]
  },
  {
   "cell_type": "markdown",
   "id": "c936d0cd-4742-4e76-8ef9-d6c1164043ec",
   "metadata": {},
   "source": [
    "### define the loss function"
   ]
  },
  {
   "cell_type": "code",
   "execution_count": 12,
   "id": "731f9415-7539-4d57-b3e1-959271c72e62",
   "metadata": {},
   "outputs": [],
   "source": [
    "loss = nn.MSELoss()"
   ]
  },
  {
   "cell_type": "markdown",
   "id": "7f68bf5c-aff1-4114-890f-19f511dcd679",
   "metadata": {},
   "source": [
    "### define optimization algorithm"
   ]
  },
  {
   "cell_type": "code",
   "execution_count": 14,
   "id": "7992e6ff-1ebb-4c6e-b93a-d0aba4b1599f",
   "metadata": {},
   "outputs": [],
   "source": [
    "trainer = torch.optim.SGD(net.parameters(), lr=0.03)"
   ]
  },
  {
   "cell_type": "markdown",
   "id": "52375efe-b1af-44af-bb18-9b980434b225",
   "metadata": {},
   "source": [
    "### training"
   ]
  },
  {
   "cell_type": "code",
   "execution_count": 15,
   "id": "e10a41e7-4975-4080-83dc-e0c2813a3199",
   "metadata": {},
   "outputs": [
    {
     "name": "stdout",
     "output_type": "stream",
     "text": [
      "epoch 1, loss 0.000217\n",
      "epoch 2, loss 0.000101\n",
      "epoch 3, loss 0.000101\n"
     ]
    }
   ],
   "source": [
    "num_epochs = 3\n",
    "for epoch in range(num_epochs):\n",
    "    for X, y in data_iter:\n",
    "        l = loss(net(X), y) # forward propagation\n",
    "        trainer.zero_grad() # set gradient to 0\n",
    "        l.backward() # backpropatation\n",
    "        trainer.step() # update parameters\n",
    "    l = loss(net(features), labels)\n",
    "    print(f'epoch {epoch + 1}, loss {l:f}')"
   ]
  },
  {
   "cell_type": "code",
   "execution_count": null,
   "id": "61202a64-045c-43c4-88c2-48e1d62e6b86",
   "metadata": {},
   "outputs": [],
   "source": []
  }
 ],
 "metadata": {
  "kernelspec": {
   "display_name": "Python 3 (ipykernel)",
   "language": "python",
   "name": "python3"
  },
  "language_info": {
   "codemirror_mode": {
    "name": "ipython",
    "version": 3
   },
   "file_extension": ".py",
   "mimetype": "text/x-python",
   "name": "python",
   "nbconvert_exporter": "python",
   "pygments_lexer": "ipython3",
   "version": "3.8.18"
  }
 },
 "nbformat": 4,
 "nbformat_minor": 5
}
